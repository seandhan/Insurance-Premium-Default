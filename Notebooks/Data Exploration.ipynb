{
 "cells": [
  {
   "cell_type": "markdown",
   "metadata": {},
   "source": [
    "# Import all the necessary libraries"
   ]
  },
  {
   "cell_type": "code",
   "execution_count": 1,
   "metadata": {},
   "outputs": [],
   "source": [
    "# Basic packages\n",
    "import pandas as pd\n",
    "import numpy as np\n",
    "import matplotlib.pyplot as plt\n",
    "import seaborn as sns\n",
    "import scipy as spy\n",
    "%matplotlib inline\n",
    "import copy"
   ]
  },
  {
   "cell_type": "code",
   "execution_count": 2,
   "metadata": {},
   "outputs": [],
   "source": [
    "# Suppress warnings\n",
    "import warnings\n",
    "warnings.filterwarnings('ignore')"
   ]
  },
  {
   "cell_type": "code",
   "execution_count": 3,
   "metadata": {},
   "outputs": [],
   "source": [
    "# Pandas display settings - columns\n",
    "\n",
    "# Display all columns\n",
    "pd.set_option(\"display.max_columns\", None)"
   ]
  },
  {
   "cell_type": "markdown",
   "metadata": {},
   "source": [
    "# Data ingestion "
   ]
  },
  {
   "cell_type": "code",
   "execution_count": 4,
   "metadata": {},
   "outputs": [],
   "source": [
    "# Load dataset\n",
    "data = pd.read_excel(\"InsurancePremiumDefault.xlsx\",sheet_name='premium')"
   ]
  },
  {
   "cell_type": "markdown",
   "metadata": {},
   "source": [
    "# **Data Inspection**"
   ]
  },
  {
   "cell_type": "markdown",
   "metadata": {},
   "source": [
    "**Preview dataset**"
   ]
  },
  {
   "cell_type": "code",
   "execution_count": 5,
   "metadata": {
    "scrolled": false
   },
   "outputs": [
    {
     "name": "stdout",
     "output_type": "stream",
     "text": [
      "First five rows --------------------------------------------------------------------------------------------------------------\n"
     ]
    },
    {
     "data": {
      "text/html": [
       "<div>\n",
       "<style scoped>\n",
       "    .dataframe tbody tr th:only-of-type {\n",
       "        vertical-align: middle;\n",
       "    }\n",
       "\n",
       "    .dataframe tbody tr th {\n",
       "        vertical-align: top;\n",
       "    }\n",
       "\n",
       "    .dataframe thead th {\n",
       "        text-align: right;\n",
       "    }\n",
       "</style>\n",
       "<table border=\"1\" class=\"dataframe\">\n",
       "  <thead>\n",
       "    <tr style=\"text-align: right;\">\n",
       "      <th></th>\n",
       "      <th>id</th>\n",
       "      <th>perc_premium_paid_by_cash_credit</th>\n",
       "      <th>age_in_days</th>\n",
       "      <th>Income</th>\n",
       "      <th>Count_3-6_months_late</th>\n",
       "      <th>Count_6-12_months_late</th>\n",
       "      <th>Count_more_than_12_months_late</th>\n",
       "      <th>Marital Status</th>\n",
       "      <th>Veh_Owned</th>\n",
       "      <th>No_of_dep</th>\n",
       "      <th>Accomodation</th>\n",
       "      <th>risk_score</th>\n",
       "      <th>no_of_premiums_paid</th>\n",
       "      <th>sourcing_channel</th>\n",
       "      <th>residence_area_type</th>\n",
       "      <th>premium</th>\n",
       "      <th>default</th>\n",
       "    </tr>\n",
       "  </thead>\n",
       "  <tbody>\n",
       "    <tr>\n",
       "      <th>0</th>\n",
       "      <td>1</td>\n",
       "      <td>0.317</td>\n",
       "      <td>11330</td>\n",
       "      <td>90050</td>\n",
       "      <td>0</td>\n",
       "      <td>0</td>\n",
       "      <td>0</td>\n",
       "      <td>0</td>\n",
       "      <td>3</td>\n",
       "      <td>3</td>\n",
       "      <td>1</td>\n",
       "      <td>98.810</td>\n",
       "      <td>8</td>\n",
       "      <td>A</td>\n",
       "      <td>Rural</td>\n",
       "      <td>5400</td>\n",
       "      <td>1</td>\n",
       "    </tr>\n",
       "    <tr>\n",
       "      <th>1</th>\n",
       "      <td>2</td>\n",
       "      <td>0.000</td>\n",
       "      <td>30309</td>\n",
       "      <td>156080</td>\n",
       "      <td>0</td>\n",
       "      <td>0</td>\n",
       "      <td>0</td>\n",
       "      <td>1</td>\n",
       "      <td>3</td>\n",
       "      <td>1</td>\n",
       "      <td>1</td>\n",
       "      <td>99.066</td>\n",
       "      <td>3</td>\n",
       "      <td>A</td>\n",
       "      <td>Urban</td>\n",
       "      <td>11700</td>\n",
       "      <td>1</td>\n",
       "    </tr>\n",
       "    <tr>\n",
       "      <th>2</th>\n",
       "      <td>3</td>\n",
       "      <td>0.015</td>\n",
       "      <td>16069</td>\n",
       "      <td>145020</td>\n",
       "      <td>1</td>\n",
       "      <td>0</td>\n",
       "      <td>0</td>\n",
       "      <td>0</td>\n",
       "      <td>1</td>\n",
       "      <td>1</td>\n",
       "      <td>1</td>\n",
       "      <td>99.170</td>\n",
       "      <td>14</td>\n",
       "      <td>C</td>\n",
       "      <td>Urban</td>\n",
       "      <td>18000</td>\n",
       "      <td>1</td>\n",
       "    </tr>\n",
       "    <tr>\n",
       "      <th>3</th>\n",
       "      <td>4</td>\n",
       "      <td>0.000</td>\n",
       "      <td>23733</td>\n",
       "      <td>187560</td>\n",
       "      <td>0</td>\n",
       "      <td>0</td>\n",
       "      <td>0</td>\n",
       "      <td>1</td>\n",
       "      <td>1</td>\n",
       "      <td>1</td>\n",
       "      <td>0</td>\n",
       "      <td>99.370</td>\n",
       "      <td>13</td>\n",
       "      <td>A</td>\n",
       "      <td>Urban</td>\n",
       "      <td>13800</td>\n",
       "      <td>1</td>\n",
       "    </tr>\n",
       "    <tr>\n",
       "      <th>4</th>\n",
       "      <td>5</td>\n",
       "      <td>0.888</td>\n",
       "      <td>19360</td>\n",
       "      <td>103050</td>\n",
       "      <td>7</td>\n",
       "      <td>3</td>\n",
       "      <td>4</td>\n",
       "      <td>0</td>\n",
       "      <td>2</td>\n",
       "      <td>1</td>\n",
       "      <td>0</td>\n",
       "      <td>98.800</td>\n",
       "      <td>15</td>\n",
       "      <td>A</td>\n",
       "      <td>Urban</td>\n",
       "      <td>7500</td>\n",
       "      <td>0</td>\n",
       "    </tr>\n",
       "  </tbody>\n",
       "</table>\n",
       "</div>"
      ],
      "text/plain": [
       "   id  perc_premium_paid_by_cash_credit  age_in_days  Income  \\\n",
       "0   1                             0.317        11330   90050   \n",
       "1   2                             0.000        30309  156080   \n",
       "2   3                             0.015        16069  145020   \n",
       "3   4                             0.000        23733  187560   \n",
       "4   5                             0.888        19360  103050   \n",
       "\n",
       "   Count_3-6_months_late  Count_6-12_months_late  \\\n",
       "0                      0                       0   \n",
       "1                      0                       0   \n",
       "2                      1                       0   \n",
       "3                      0                       0   \n",
       "4                      7                       3   \n",
       "\n",
       "   Count_more_than_12_months_late  Marital Status  Veh_Owned  No_of_dep  \\\n",
       "0                               0               0          3          3   \n",
       "1                               0               1          3          1   \n",
       "2                               0               0          1          1   \n",
       "3                               0               1          1          1   \n",
       "4                               4               0          2          1   \n",
       "\n",
       "   Accomodation  risk_score  no_of_premiums_paid sourcing_channel  \\\n",
       "0             1      98.810                    8                A   \n",
       "1             1      99.066                    3                A   \n",
       "2             1      99.170                   14                C   \n",
       "3             0      99.370                   13                A   \n",
       "4             0      98.800                   15                A   \n",
       "\n",
       "  residence_area_type  premium  default  \n",
       "0               Rural     5400        1  \n",
       "1               Urban    11700        1  \n",
       "2               Urban    18000        1  \n",
       "3               Urban    13800        1  \n",
       "4               Urban     7500        0  "
      ]
     },
     "metadata": {},
     "output_type": "display_data"
    },
    {
     "name": "stdout",
     "output_type": "stream",
     "text": [
      "Last five rows --------------------------------------------------------------------------------------------------------------\n"
     ]
    },
    {
     "data": {
      "text/html": [
       "<div>\n",
       "<style scoped>\n",
       "    .dataframe tbody tr th:only-of-type {\n",
       "        vertical-align: middle;\n",
       "    }\n",
       "\n",
       "    .dataframe tbody tr th {\n",
       "        vertical-align: top;\n",
       "    }\n",
       "\n",
       "    .dataframe thead th {\n",
       "        text-align: right;\n",
       "    }\n",
       "</style>\n",
       "<table border=\"1\" class=\"dataframe\">\n",
       "  <thead>\n",
       "    <tr style=\"text-align: right;\">\n",
       "      <th></th>\n",
       "      <th>id</th>\n",
       "      <th>perc_premium_paid_by_cash_credit</th>\n",
       "      <th>age_in_days</th>\n",
       "      <th>Income</th>\n",
       "      <th>Count_3-6_months_late</th>\n",
       "      <th>Count_6-12_months_late</th>\n",
       "      <th>Count_more_than_12_months_late</th>\n",
       "      <th>Marital Status</th>\n",
       "      <th>Veh_Owned</th>\n",
       "      <th>No_of_dep</th>\n",
       "      <th>Accomodation</th>\n",
       "      <th>risk_score</th>\n",
       "      <th>no_of_premiums_paid</th>\n",
       "      <th>sourcing_channel</th>\n",
       "      <th>residence_area_type</th>\n",
       "      <th>premium</th>\n",
       "      <th>default</th>\n",
       "    </tr>\n",
       "  </thead>\n",
       "  <tbody>\n",
       "    <tr>\n",
       "      <th>79848</th>\n",
       "      <td>79849</td>\n",
       "      <td>0.249</td>\n",
       "      <td>25555</td>\n",
       "      <td>64420</td>\n",
       "      <td>0</td>\n",
       "      <td>0</td>\n",
       "      <td>0</td>\n",
       "      <td>1</td>\n",
       "      <td>2</td>\n",
       "      <td>4</td>\n",
       "      <td>0</td>\n",
       "      <td>99.08</td>\n",
       "      <td>10</td>\n",
       "      <td>A</td>\n",
       "      <td>Urban</td>\n",
       "      <td>5700</td>\n",
       "      <td>1</td>\n",
       "    </tr>\n",
       "    <tr>\n",
       "      <th>79849</th>\n",
       "      <td>79850</td>\n",
       "      <td>0.003</td>\n",
       "      <td>16797</td>\n",
       "      <td>660040</td>\n",
       "      <td>1</td>\n",
       "      <td>0</td>\n",
       "      <td>0</td>\n",
       "      <td>0</td>\n",
       "      <td>2</td>\n",
       "      <td>1</td>\n",
       "      <td>0</td>\n",
       "      <td>99.65</td>\n",
       "      <td>9</td>\n",
       "      <td>B</td>\n",
       "      <td>Urban</td>\n",
       "      <td>28500</td>\n",
       "      <td>1</td>\n",
       "    </tr>\n",
       "    <tr>\n",
       "      <th>79850</th>\n",
       "      <td>79851</td>\n",
       "      <td>0.012</td>\n",
       "      <td>24835</td>\n",
       "      <td>227760</td>\n",
       "      <td>0</td>\n",
       "      <td>0</td>\n",
       "      <td>0</td>\n",
       "      <td>0</td>\n",
       "      <td>2</td>\n",
       "      <td>3</td>\n",
       "      <td>0</td>\n",
       "      <td>99.66</td>\n",
       "      <td>11</td>\n",
       "      <td>A</td>\n",
       "      <td>Rural</td>\n",
       "      <td>11700</td>\n",
       "      <td>1</td>\n",
       "    </tr>\n",
       "    <tr>\n",
       "      <th>79851</th>\n",
       "      <td>79852</td>\n",
       "      <td>0.190</td>\n",
       "      <td>10959</td>\n",
       "      <td>153060</td>\n",
       "      <td>1</td>\n",
       "      <td>0</td>\n",
       "      <td>0</td>\n",
       "      <td>0</td>\n",
       "      <td>2</td>\n",
       "      <td>1</td>\n",
       "      <td>0</td>\n",
       "      <td>99.46</td>\n",
       "      <td>24</td>\n",
       "      <td>A</td>\n",
       "      <td>Urban</td>\n",
       "      <td>11700</td>\n",
       "      <td>1</td>\n",
       "    </tr>\n",
       "    <tr>\n",
       "      <th>79852</th>\n",
       "      <td>79853</td>\n",
       "      <td>0.000</td>\n",
       "      <td>19720</td>\n",
       "      <td>324030</td>\n",
       "      <td>0</td>\n",
       "      <td>0</td>\n",
       "      <td>0</td>\n",
       "      <td>0</td>\n",
       "      <td>3</td>\n",
       "      <td>3</td>\n",
       "      <td>0</td>\n",
       "      <td>99.80</td>\n",
       "      <td>7</td>\n",
       "      <td>D</td>\n",
       "      <td>Rural</td>\n",
       "      <td>3300</td>\n",
       "      <td>1</td>\n",
       "    </tr>\n",
       "  </tbody>\n",
       "</table>\n",
       "</div>"
      ],
      "text/plain": [
       "          id  perc_premium_paid_by_cash_credit  age_in_days  Income  \\\n",
       "79848  79849                             0.249        25555   64420   \n",
       "79849  79850                             0.003        16797  660040   \n",
       "79850  79851                             0.012        24835  227760   \n",
       "79851  79852                             0.190        10959  153060   \n",
       "79852  79853                             0.000        19720  324030   \n",
       "\n",
       "       Count_3-6_months_late  Count_6-12_months_late  \\\n",
       "79848                      0                       0   \n",
       "79849                      1                       0   \n",
       "79850                      0                       0   \n",
       "79851                      1                       0   \n",
       "79852                      0                       0   \n",
       "\n",
       "       Count_more_than_12_months_late  Marital Status  Veh_Owned  No_of_dep  \\\n",
       "79848                               0               1          2          4   \n",
       "79849                               0               0          2          1   \n",
       "79850                               0               0          2          3   \n",
       "79851                               0               0          2          1   \n",
       "79852                               0               0          3          3   \n",
       "\n",
       "       Accomodation  risk_score  no_of_premiums_paid sourcing_channel  \\\n",
       "79848             0       99.08                   10                A   \n",
       "79849             0       99.65                    9                B   \n",
       "79850             0       99.66                   11                A   \n",
       "79851             0       99.46                   24                A   \n",
       "79852             0       99.80                    7                D   \n",
       "\n",
       "      residence_area_type  premium  default  \n",
       "79848               Urban     5700        1  \n",
       "79849               Urban    28500        1  \n",
       "79850               Rural    11700        1  \n",
       "79851               Urban    11700        1  \n",
       "79852               Rural     3300        1  "
      ]
     },
     "metadata": {},
     "output_type": "display_data"
    },
    {
     "name": "stdout",
     "output_type": "stream",
     "text": [
      "Random ten rows --------------------------------------------------------------------------------------------------------------\n"
     ]
    },
    {
     "data": {
      "text/html": [
       "<div>\n",
       "<style scoped>\n",
       "    .dataframe tbody tr th:only-of-type {\n",
       "        vertical-align: middle;\n",
       "    }\n",
       "\n",
       "    .dataframe tbody tr th {\n",
       "        vertical-align: top;\n",
       "    }\n",
       "\n",
       "    .dataframe thead th {\n",
       "        text-align: right;\n",
       "    }\n",
       "</style>\n",
       "<table border=\"1\" class=\"dataframe\">\n",
       "  <thead>\n",
       "    <tr style=\"text-align: right;\">\n",
       "      <th></th>\n",
       "      <th>id</th>\n",
       "      <th>perc_premium_paid_by_cash_credit</th>\n",
       "      <th>age_in_days</th>\n",
       "      <th>Income</th>\n",
       "      <th>Count_3-6_months_late</th>\n",
       "      <th>Count_6-12_months_late</th>\n",
       "      <th>Count_more_than_12_months_late</th>\n",
       "      <th>Marital Status</th>\n",
       "      <th>Veh_Owned</th>\n",
       "      <th>No_of_dep</th>\n",
       "      <th>Accomodation</th>\n",
       "      <th>risk_score</th>\n",
       "      <th>no_of_premiums_paid</th>\n",
       "      <th>sourcing_channel</th>\n",
       "      <th>residence_area_type</th>\n",
       "      <th>premium</th>\n",
       "      <th>default</th>\n",
       "    </tr>\n",
       "  </thead>\n",
       "  <tbody>\n",
       "    <tr>\n",
       "      <th>53658</th>\n",
       "      <td>53659</td>\n",
       "      <td>0.150</td>\n",
       "      <td>22643</td>\n",
       "      <td>171080</td>\n",
       "      <td>0</td>\n",
       "      <td>0</td>\n",
       "      <td>0</td>\n",
       "      <td>1</td>\n",
       "      <td>2</td>\n",
       "      <td>2</td>\n",
       "      <td>0</td>\n",
       "      <td>98.78</td>\n",
       "      <td>12</td>\n",
       "      <td>A</td>\n",
       "      <td>Urban</td>\n",
       "      <td>11700</td>\n",
       "      <td>1</td>\n",
       "    </tr>\n",
       "    <tr>\n",
       "      <th>25309</th>\n",
       "      <td>25310</td>\n",
       "      <td>0.201</td>\n",
       "      <td>10232</td>\n",
       "      <td>75090</td>\n",
       "      <td>0</td>\n",
       "      <td>0</td>\n",
       "      <td>0</td>\n",
       "      <td>1</td>\n",
       "      <td>3</td>\n",
       "      <td>4</td>\n",
       "      <td>0</td>\n",
       "      <td>99.61</td>\n",
       "      <td>7</td>\n",
       "      <td>A</td>\n",
       "      <td>Rural</td>\n",
       "      <td>1200</td>\n",
       "      <td>1</td>\n",
       "    </tr>\n",
       "    <tr>\n",
       "      <th>26163</th>\n",
       "      <td>26164</td>\n",
       "      <td>0.010</td>\n",
       "      <td>19719</td>\n",
       "      <td>144120</td>\n",
       "      <td>0</td>\n",
       "      <td>0</td>\n",
       "      <td>0</td>\n",
       "      <td>1</td>\n",
       "      <td>3</td>\n",
       "      <td>1</td>\n",
       "      <td>0</td>\n",
       "      <td>99.89</td>\n",
       "      <td>7</td>\n",
       "      <td>A</td>\n",
       "      <td>Urban</td>\n",
       "      <td>11700</td>\n",
       "      <td>1</td>\n",
       "    </tr>\n",
       "    <tr>\n",
       "      <th>55134</th>\n",
       "      <td>55135</td>\n",
       "      <td>0.000</td>\n",
       "      <td>23734</td>\n",
       "      <td>350070</td>\n",
       "      <td>0</td>\n",
       "      <td>0</td>\n",
       "      <td>0</td>\n",
       "      <td>1</td>\n",
       "      <td>1</td>\n",
       "      <td>1</td>\n",
       "      <td>1</td>\n",
       "      <td>99.51</td>\n",
       "      <td>9</td>\n",
       "      <td>A</td>\n",
       "      <td>Urban</td>\n",
       "      <td>1200</td>\n",
       "      <td>1</td>\n",
       "    </tr>\n",
       "    <tr>\n",
       "      <th>29706</th>\n",
       "      <td>29707</td>\n",
       "      <td>0.094</td>\n",
       "      <td>27023</td>\n",
       "      <td>69110</td>\n",
       "      <td>0</td>\n",
       "      <td>0</td>\n",
       "      <td>0</td>\n",
       "      <td>1</td>\n",
       "      <td>3</td>\n",
       "      <td>4</td>\n",
       "      <td>0</td>\n",
       "      <td>99.83</td>\n",
       "      <td>8</td>\n",
       "      <td>A</td>\n",
       "      <td>Urban</td>\n",
       "      <td>5400</td>\n",
       "      <td>1</td>\n",
       "    </tr>\n",
       "    <tr>\n",
       "      <th>11087</th>\n",
       "      <td>11088</td>\n",
       "      <td>0.123</td>\n",
       "      <td>28844</td>\n",
       "      <td>180030</td>\n",
       "      <td>0</td>\n",
       "      <td>0</td>\n",
       "      <td>0</td>\n",
       "      <td>0</td>\n",
       "      <td>2</td>\n",
       "      <td>1</td>\n",
       "      <td>1</td>\n",
       "      <td>99.47</td>\n",
       "      <td>8</td>\n",
       "      <td>A</td>\n",
       "      <td>Rural</td>\n",
       "      <td>9600</td>\n",
       "      <td>1</td>\n",
       "    </tr>\n",
       "    <tr>\n",
       "      <th>71267</th>\n",
       "      <td>71268</td>\n",
       "      <td>0.990</td>\n",
       "      <td>12785</td>\n",
       "      <td>55640</td>\n",
       "      <td>1</td>\n",
       "      <td>0</td>\n",
       "      <td>0</td>\n",
       "      <td>0</td>\n",
       "      <td>1</td>\n",
       "      <td>2</td>\n",
       "      <td>1</td>\n",
       "      <td>99.66</td>\n",
       "      <td>7</td>\n",
       "      <td>A</td>\n",
       "      <td>Rural</td>\n",
       "      <td>3300</td>\n",
       "      <td>1</td>\n",
       "    </tr>\n",
       "    <tr>\n",
       "      <th>4389</th>\n",
       "      <td>4390</td>\n",
       "      <td>0.051</td>\n",
       "      <td>22276</td>\n",
       "      <td>171080</td>\n",
       "      <td>0</td>\n",
       "      <td>0</td>\n",
       "      <td>0</td>\n",
       "      <td>0</td>\n",
       "      <td>2</td>\n",
       "      <td>2</td>\n",
       "      <td>0</td>\n",
       "      <td>99.69</td>\n",
       "      <td>11</td>\n",
       "      <td>A</td>\n",
       "      <td>Rural</td>\n",
       "      <td>7500</td>\n",
       "      <td>1</td>\n",
       "    </tr>\n",
       "    <tr>\n",
       "      <th>47666</th>\n",
       "      <td>47667</td>\n",
       "      <td>0.000</td>\n",
       "      <td>19717</td>\n",
       "      <td>219430</td>\n",
       "      <td>0</td>\n",
       "      <td>0</td>\n",
       "      <td>0</td>\n",
       "      <td>1</td>\n",
       "      <td>2</td>\n",
       "      <td>3</td>\n",
       "      <td>0</td>\n",
       "      <td>99.27</td>\n",
       "      <td>11</td>\n",
       "      <td>D</td>\n",
       "      <td>Urban</td>\n",
       "      <td>11700</td>\n",
       "      <td>1</td>\n",
       "    </tr>\n",
       "    <tr>\n",
       "      <th>31240</th>\n",
       "      <td>31241</td>\n",
       "      <td>0.000</td>\n",
       "      <td>15708</td>\n",
       "      <td>150110</td>\n",
       "      <td>0</td>\n",
       "      <td>0</td>\n",
       "      <td>0</td>\n",
       "      <td>0</td>\n",
       "      <td>3</td>\n",
       "      <td>2</td>\n",
       "      <td>0</td>\n",
       "      <td>99.71</td>\n",
       "      <td>4</td>\n",
       "      <td>C</td>\n",
       "      <td>Urban</td>\n",
       "      <td>11700</td>\n",
       "      <td>1</td>\n",
       "    </tr>\n",
       "  </tbody>\n",
       "</table>\n",
       "</div>"
      ],
      "text/plain": [
       "          id  perc_premium_paid_by_cash_credit  age_in_days  Income  \\\n",
       "53658  53659                             0.150        22643  171080   \n",
       "25309  25310                             0.201        10232   75090   \n",
       "26163  26164                             0.010        19719  144120   \n",
       "55134  55135                             0.000        23734  350070   \n",
       "29706  29707                             0.094        27023   69110   \n",
       "11087  11088                             0.123        28844  180030   \n",
       "71267  71268                             0.990        12785   55640   \n",
       "4389    4390                             0.051        22276  171080   \n",
       "47666  47667                             0.000        19717  219430   \n",
       "31240  31241                             0.000        15708  150110   \n",
       "\n",
       "       Count_3-6_months_late  Count_6-12_months_late  \\\n",
       "53658                      0                       0   \n",
       "25309                      0                       0   \n",
       "26163                      0                       0   \n",
       "55134                      0                       0   \n",
       "29706                      0                       0   \n",
       "11087                      0                       0   \n",
       "71267                      1                       0   \n",
       "4389                       0                       0   \n",
       "47666                      0                       0   \n",
       "31240                      0                       0   \n",
       "\n",
       "       Count_more_than_12_months_late  Marital Status  Veh_Owned  No_of_dep  \\\n",
       "53658                               0               1          2          2   \n",
       "25309                               0               1          3          4   \n",
       "26163                               0               1          3          1   \n",
       "55134                               0               1          1          1   \n",
       "29706                               0               1          3          4   \n",
       "11087                               0               0          2          1   \n",
       "71267                               0               0          1          2   \n",
       "4389                                0               0          2          2   \n",
       "47666                               0               1          2          3   \n",
       "31240                               0               0          3          2   \n",
       "\n",
       "       Accomodation  risk_score  no_of_premiums_paid sourcing_channel  \\\n",
       "53658             0       98.78                   12                A   \n",
       "25309             0       99.61                    7                A   \n",
       "26163             0       99.89                    7                A   \n",
       "55134             1       99.51                    9                A   \n",
       "29706             0       99.83                    8                A   \n",
       "11087             1       99.47                    8                A   \n",
       "71267             1       99.66                    7                A   \n",
       "4389              0       99.69                   11                A   \n",
       "47666             0       99.27                   11                D   \n",
       "31240             0       99.71                    4                C   \n",
       "\n",
       "      residence_area_type  premium  default  \n",
       "53658               Urban    11700        1  \n",
       "25309               Rural     1200        1  \n",
       "26163               Urban    11700        1  \n",
       "55134               Urban     1200        1  \n",
       "29706               Urban     5400        1  \n",
       "11087               Rural     9600        1  \n",
       "71267               Rural     3300        1  \n",
       "4389                Rural     7500        1  \n",
       "47666               Urban    11700        1  \n",
       "31240               Urban    11700        1  "
      ]
     },
     "metadata": {},
     "output_type": "display_data"
    }
   ],
   "source": [
    "# Preview the dataset\n",
    "# View the first 5, last 5 and random 10 rows\n",
    "print('First five rows', '--'*55)\n",
    "display(data.head())\n",
    "\n",
    "print('Last five rows', '--'*55)\n",
    "display(data.tail())\n",
    "\n",
    "print('Random ten rows', '--'*55)\n",
    "np.random.seed(1)\n",
    "display(data.sample(n=10))"
   ]
  },
  {
   "cell_type": "markdown",
   "metadata": {},
   "source": [
    "**Initial observations**\n",
    "- `id` is row identifier, which does not add any value. This variable can be removed later.\n",
    "- `perc_premium_paid_by_cash_credit` is a continuous,ratio numerical variable.\n",
    "- `age_in_days`,`Income`,`Veh_Owned`, `No_of_dep`,`No_of_dep`,`no_of_premiums_paid` & `premium`  are discrete,interval numerical variables.\n",
    "- `Income` is a discrete,interval numerical variable.\n",
    "- `Count_3-6_months_late`, `Count_6-12_months_late` & `Count_more_than_12_months_late` are interval and discrete numerical variables.\n",
    "- `Marital Status` is binary (0 - Unmarried, 1 - Married)\n",
    "- `Accomodation` is binary (0 - Rented, 1 - Owned)\n",
    "- `risk_score` is a continuous, numerical variable.\n",
    "- `sourcing_channel` & `residence_area_type` are categorical nominal variables.\n",
    "- `default` is the Target variable. It is a binary (0 - defaulter, 1 - non_defaulter) variable."
   ]
  },
  {
   "cell_type": "markdown",
   "metadata": {},
   "source": [
    "---"
   ]
  },
  {
   "cell_type": "markdown",
   "metadata": {},
   "source": [
    "## Variable List"
   ]
  },
  {
   "cell_type": "code",
   "execution_count": 6,
   "metadata": {},
   "outputs": [
    {
     "name": "stdout",
     "output_type": "stream",
     "text": [
      "['id', 'perc_premium_paid_by_cash_credit', 'age_in_days', 'Income', 'Count_3-6_months_late', 'Count_6-12_months_late', 'Count_more_than_12_months_late', 'Marital Status', 'Veh_Owned', 'No_of_dep', 'Accomodation', 'risk_score', 'no_of_premiums_paid', 'sourcing_channel', 'residence_area_type', 'premium', 'default']\n"
     ]
    }
   ],
   "source": [
    "# Display list of variables in dataset\n",
    "variable_list = data.columns.tolist()\n",
    "print(variable_list)"
   ]
  },
  {
   "cell_type": "markdown",
   "metadata": {},
   "source": [
    "---"
   ]
  },
  {
   "cell_type": "markdown",
   "metadata": {},
   "source": [
    "Let's rename the variables for ease of programming"
   ]
  },
  {
   "cell_type": "code",
   "execution_count": 7,
   "metadata": {},
   "outputs": [],
   "source": [
    "# Column rename dictionary\n",
    "renamed_columns = {\n",
    "    'id': 'ID',\n",
    "    'perc_premium_paid_by_cash_credit': 'Perc_premium_paid_in_cash',\n",
    "    'age_in_days': 'Age_in_days',\n",
    "    'Count_3-6_months_late': 'Late_premium_payment_3-6_months',\n",
    "    'Count_6-12_months_late': 'Late_premium_payment_6-12_months',\n",
    "    'Count_more_than_12_months_late': 'Late_premium_payment_>12_months',\n",
    "    'Marital Status': 'Marital_Status',\n",
    "    'Veh_Owned': 'Vehicles_Owned',\n",
    "    'No_of_dep': 'No_of_dependents',\n",
    "    'risk_score': 'Risk_score',\n",
    "    'no_of_premiums_paid': 'No_of_premiums_paid',\n",
    "    'sourcing_channel': 'Sourcing_channel',\n",
    "    'residence_area_type': 'Customer_demographic',\n",
    "    'premium': 'Premium_payment',\n",
    "    'default': 'Default'\n",
    "}\n",
    "\n",
    "# Rename dataframe columns names\n",
    "data = data.rename(columns = renamed_columns)"
   ]
  },
  {
   "cell_type": "code",
   "execution_count": 8,
   "metadata": {},
   "outputs": [
    {
     "name": "stdout",
     "output_type": "stream",
     "text": [
      "['ID', 'Perc_premium_paid_in_cash', 'Age_in_days', 'Income', 'Late_premium_payment_3-6_months', 'Late_premium_payment_6-12_months', 'Late_premium_payment_>12_months', 'Marital_Status', 'Vehicles_Owned', 'No_of_dependents', 'Accomodation', 'Risk_score', 'No_of_premiums_paid', 'Sourcing_channel', 'Customer_demographic', 'Premium_payment', 'Default']\n"
     ]
    }
   ],
   "source": [
    "# Check for updated column names\n",
    "variable_list = data.columns.tolist()\n",
    "print(variable_list)"
   ]
  },
  {
   "cell_type": "markdown",
   "metadata": {},
   "source": [
    "---"
   ]
  },
  {
   "cell_type": "markdown",
   "metadata": {},
   "source": [
    "## Dataset shape"
   ]
  },
  {
   "cell_type": "code",
   "execution_count": 9,
   "metadata": {},
   "outputs": [
    {
     "name": "stdout",
     "output_type": "stream",
     "text": [
      "The Dataframe consists of '79853' rows and '17' columns\n"
     ]
    }
   ],
   "source": [
    "shape = data.shape\n",
    "n_rows = shape[0]\n",
    "n_cols = shape[1]\n",
    "print(f\"The Dataframe consists of '{n_rows}' rows and '{n_cols}' columns\")"
   ]
  },
  {
   "cell_type": "markdown",
   "metadata": {},
   "source": [
    "**Data types**"
   ]
  },
  {
   "cell_type": "code",
   "execution_count": 10,
   "metadata": {},
   "outputs": [
    {
     "data": {
      "text/plain": [
       "ID                                    int64\n",
       "Perc_premium_paid_in_cash           float64\n",
       "Age_in_days                           int64\n",
       "Income                                int64\n",
       "Late_premium_payment_3-6_months       int64\n",
       "Late_premium_payment_6-12_months      int64\n",
       "Late_premium_payment_>12_months       int64\n",
       "Marital_Status                        int64\n",
       "Vehicles_Owned                        int64\n",
       "No_of_dependents                      int64\n",
       "Accomodation                          int64\n",
       "Risk_score                          float64\n",
       "No_of_premiums_paid                   int64\n",
       "Sourcing_channel                     object\n",
       "Customer_demographic                 object\n",
       "Premium_payment                       int64\n",
       "Default                               int64\n",
       "dtype: object"
      ]
     },
     "execution_count": 10,
     "metadata": {},
     "output_type": "execute_result"
    }
   ],
   "source": [
    "# Check the data types\n",
    "data.dtypes"
   ]
  },
  {
   "cell_type": "markdown",
   "metadata": {},
   "source": [
    "**Data info**"
   ]
  },
  {
   "cell_type": "code",
   "execution_count": 11,
   "metadata": {},
   "outputs": [
    {
     "name": "stdout",
     "output_type": "stream",
     "text": [
      "<class 'pandas.core.frame.DataFrame'>\n",
      "RangeIndex: 79853 entries, 0 to 79852\n",
      "Data columns (total 17 columns):\n",
      " #   Column                            Non-Null Count  Dtype  \n",
      "---  ------                            --------------  -----  \n",
      " 0   ID                                79853 non-null  int64  \n",
      " 1   Perc_premium_paid_in_cash         79853 non-null  float64\n",
      " 2   Age_in_days                       79853 non-null  int64  \n",
      " 3   Income                            79853 non-null  int64  \n",
      " 4   Late_premium_payment_3-6_months   79853 non-null  int64  \n",
      " 5   Late_premium_payment_6-12_months  79853 non-null  int64  \n",
      " 6   Late_premium_payment_>12_months   79853 non-null  int64  \n",
      " 7   Marital_Status                    79853 non-null  int64  \n",
      " 8   Vehicles_Owned                    79853 non-null  int64  \n",
      " 9   No_of_dependents                  79853 non-null  int64  \n",
      " 10  Accomodation                      79853 non-null  int64  \n",
      " 11  Risk_score                        79853 non-null  float64\n",
      " 12  No_of_premiums_paid               79853 non-null  int64  \n",
      " 13  Sourcing_channel                  79853 non-null  object \n",
      " 14  Customer_demographic              79853 non-null  object \n",
      " 15  Premium_payment                   79853 non-null  int64  \n",
      " 16  Default                           79853 non-null  int64  \n",
      "dtypes: float64(2), int64(13), object(2)\n",
      "memory usage: 10.4+ MB\n"
     ]
    }
   ],
   "source": [
    "# Get info of the dataframe columns\n",
    "data.info()"
   ]
  },
  {
   "cell_type": "markdown",
   "metadata": {},
   "source": [
    "- Two (2) variables have been identified as `Panda object` type. These shall be converted to the `category` type."
   ]
  },
  {
   "cell_type": "markdown",
   "metadata": {},
   "source": [
    "**Convert Pandas Objects to Category type**"
   ]
  },
  {
   "cell_type": "code",
   "execution_count": 12,
   "metadata": {},
   "outputs": [
    {
     "name": "stdout",
     "output_type": "stream",
     "text": [
      "<class 'pandas.core.frame.DataFrame'>\n",
      "RangeIndex: 79853 entries, 0 to 79852\n",
      "Data columns (total 17 columns):\n",
      " #   Column                            Non-Null Count  Dtype   \n",
      "---  ------                            --------------  -----   \n",
      " 0   ID                                79853 non-null  int64   \n",
      " 1   Perc_premium_paid_in_cash         79853 non-null  float64 \n",
      " 2   Age_in_days                       79853 non-null  int64   \n",
      " 3   Income                            79853 non-null  int64   \n",
      " 4   Late_premium_payment_3-6_months   79853 non-null  int64   \n",
      " 5   Late_premium_payment_6-12_months  79853 non-null  int64   \n",
      " 6   Late_premium_payment_>12_months   79853 non-null  int64   \n",
      " 7   Marital_Status                    79853 non-null  int64   \n",
      " 8   Vehicles_Owned                    79853 non-null  int64   \n",
      " 9   No_of_dependents                  79853 non-null  int64   \n",
      " 10  Accomodation                      79853 non-null  int64   \n",
      " 11  Risk_score                        79853 non-null  float64 \n",
      " 12  No_of_premiums_paid               79853 non-null  int64   \n",
      " 13  Sourcing_channel                  79853 non-null  category\n",
      " 14  Customer_demographic              79853 non-null  category\n",
      " 15  Premium_payment                   79853 non-null  int64   \n",
      " 16  Default                           79853 non-null  int64   \n",
      "dtypes: category(2), float64(2), int64(13)\n",
      "memory usage: 9.3 MB\n"
     ]
    }
   ],
   "source": [
    "# Convert variables with \"object\" type to \"category\" type\n",
    "for i in data.columns:\n",
    "    if data[i].dtypes == \"object\":\n",
    "        data[i] = data[i].astype(\"category\") \n",
    "\n",
    "# Confirm if there no variables with \"object\" type\n",
    "data.info()"
   ]
  },
  {
   "cell_type": "markdown",
   "metadata": {},
   "source": [
    "- `The memory usage has decreased from 10.4+ MB to 9.3 MB`"
   ]
  },
  {
   "cell_type": "markdown",
   "metadata": {},
   "source": [
    "**Missing value summary function**"
   ]
  },
  {
   "cell_type": "code",
   "execution_count": 13,
   "metadata": {},
   "outputs": [],
   "source": [
    "def missing_val_chk(data):\n",
    "    \"\"\"\n",
    "    This function to checks for missing values \n",
    "    and generates a summary.\n",
    "    \"\"\"\n",
    "    if data.isnull().sum().any() == True:\n",
    "        # Number of missing in each column\n",
    "        missing_vals = pd.DataFrame(data.isnull().sum().sort_values(\n",
    "            ascending=False)).rename(columns={0: '# missing'})\n",
    "\n",
    "        # Create a percentage missing\n",
    "        missing_vals['percent'] = ((missing_vals['# missing'] / len(data)) *\n",
    "                                   100).round(decimals=3)\n",
    "\n",
    "        # Remove rows with 0\n",
    "        missing_vals = missing_vals[missing_vals['# missing'] != 0].dropna()\n",
    "\n",
    "        # display missing value dataframe\n",
    "        print(\"The missing values summary\")\n",
    "        display(missing_vals)\n",
    "    else:\n",
    "        print(\"There are NO missing values in the dataset\")"
   ]
  },
  {
   "cell_type": "markdown",
   "metadata": {},
   "source": [
    "## Missing Values Check"
   ]
  },
  {
   "cell_type": "code",
   "execution_count": 14,
   "metadata": {},
   "outputs": [
    {
     "name": "stdout",
     "output_type": "stream",
     "text": [
      "There are NO missing values in the dataset\n"
     ]
    }
   ],
   "source": [
    "#Applying the missing value summary function\n",
    "missing_val_chk(data)"
   ]
  },
  {
   "cell_type": "markdown",
   "metadata": {},
   "source": [
    "***"
   ]
  },
  {
   "cell_type": "markdown",
   "metadata": {},
   "source": [
    "Before we check the 5 Point numerical summary, let's verify that `ID` is row identifier.\n",
    "\n",
    "If this is the case then the number of unique values will equal the number of rows."
   ]
  },
  {
   "cell_type": "code",
   "execution_count": 15,
   "metadata": {},
   "outputs": [
    {
     "name": "stdout",
     "output_type": "stream",
     "text": [
      "ID is a row identifier, we shall drop ID variable\n"
     ]
    }
   ],
   "source": [
    "# Check to see if ID unique values equal number of rows\n",
    "\n",
    "if data.ID.nunique() == data.shape[0]:\n",
    "    print(\"ID is a row identifier, we shall drop ID variable\")\n",
    "else:\n",
    "    print(\"ID is a row identifier\")"
   ]
  },
  {
   "cell_type": "markdown",
   "metadata": {},
   "source": [
    "**Dropping ID variable**"
   ]
  },
  {
   "cell_type": "code",
   "execution_count": 16,
   "metadata": {},
   "outputs": [],
   "source": [
    "data.drop(columns=\"ID\", axis=1, inplace=True)"
   ]
  },
  {
   "cell_type": "markdown",
   "metadata": {},
   "source": [
    "---"
   ]
  },
  {
   "cell_type": "markdown",
   "metadata": {},
   "source": [
    "## 5 Point Summary"
   ]
  },
  {
   "cell_type": "markdown",
   "metadata": {},
   "source": [
    "**Numerical type Summary**"
   ]
  },
  {
   "cell_type": "code",
   "execution_count": 17,
   "metadata": {
    "scrolled": false
   },
   "outputs": [
    {
     "data": {
      "text/html": [
       "<div>\n",
       "<style scoped>\n",
       "    .dataframe tbody tr th:only-of-type {\n",
       "        vertical-align: middle;\n",
       "    }\n",
       "\n",
       "    .dataframe tbody tr th {\n",
       "        vertical-align: top;\n",
       "    }\n",
       "\n",
       "    .dataframe thead th {\n",
       "        text-align: right;\n",
       "    }\n",
       "</style>\n",
       "<table border=\"1\" class=\"dataframe\">\n",
       "  <thead>\n",
       "    <tr style=\"text-align: right;\">\n",
       "      <th></th>\n",
       "      <th>count</th>\n",
       "      <th>mean</th>\n",
       "      <th>std</th>\n",
       "      <th>min</th>\n",
       "      <th>25%</th>\n",
       "      <th>50%</th>\n",
       "      <th>75%</th>\n",
       "      <th>max</th>\n",
       "    </tr>\n",
       "  </thead>\n",
       "  <tbody>\n",
       "    <tr>\n",
       "      <th>Perc_premium_paid_in_cash</th>\n",
       "      <td>79853.0</td>\n",
       "      <td>0.314288</td>\n",
       "      <td>0.334915</td>\n",
       "      <td>0.0</td>\n",
       "      <td>0.034</td>\n",
       "      <td>0.167</td>\n",
       "      <td>0.538</td>\n",
       "      <td>1.00</td>\n",
       "    </tr>\n",
       "    <tr>\n",
       "      <th>Age_in_days</th>\n",
       "      <td>79853.0</td>\n",
       "      <td>18846.696906</td>\n",
       "      <td>5208.719136</td>\n",
       "      <td>7670.0</td>\n",
       "      <td>14974.000</td>\n",
       "      <td>18625.000</td>\n",
       "      <td>22636.000</td>\n",
       "      <td>37602.00</td>\n",
       "    </tr>\n",
       "    <tr>\n",
       "      <th>Income</th>\n",
       "      <td>79853.0</td>\n",
       "      <td>208847.171177</td>\n",
       "      <td>496582.597257</td>\n",
       "      <td>24030.0</td>\n",
       "      <td>108010.000</td>\n",
       "      <td>166560.000</td>\n",
       "      <td>252090.000</td>\n",
       "      <td>90262600.00</td>\n",
       "    </tr>\n",
       "    <tr>\n",
       "      <th>Late_premium_payment_3-6_months</th>\n",
       "      <td>79853.0</td>\n",
       "      <td>0.248369</td>\n",
       "      <td>0.691102</td>\n",
       "      <td>0.0</td>\n",
       "      <td>0.000</td>\n",
       "      <td>0.000</td>\n",
       "      <td>0.000</td>\n",
       "      <td>13.00</td>\n",
       "    </tr>\n",
       "    <tr>\n",
       "      <th>Late_premium_payment_6-12_months</th>\n",
       "      <td>79853.0</td>\n",
       "      <td>0.078093</td>\n",
       "      <td>0.436251</td>\n",
       "      <td>0.0</td>\n",
       "      <td>0.000</td>\n",
       "      <td>0.000</td>\n",
       "      <td>0.000</td>\n",
       "      <td>17.00</td>\n",
       "    </tr>\n",
       "    <tr>\n",
       "      <th>Late_premium_payment_&gt;12_months</th>\n",
       "      <td>79853.0</td>\n",
       "      <td>0.059935</td>\n",
       "      <td>0.311840</td>\n",
       "      <td>0.0</td>\n",
       "      <td>0.000</td>\n",
       "      <td>0.000</td>\n",
       "      <td>0.000</td>\n",
       "      <td>11.00</td>\n",
       "    </tr>\n",
       "    <tr>\n",
       "      <th>Marital_Status</th>\n",
       "      <td>79853.0</td>\n",
       "      <td>0.498679</td>\n",
       "      <td>0.500001</td>\n",
       "      <td>0.0</td>\n",
       "      <td>0.000</td>\n",
       "      <td>0.000</td>\n",
       "      <td>1.000</td>\n",
       "      <td>1.00</td>\n",
       "    </tr>\n",
       "    <tr>\n",
       "      <th>Vehicles_Owned</th>\n",
       "      <td>79853.0</td>\n",
       "      <td>1.998009</td>\n",
       "      <td>0.817248</td>\n",
       "      <td>1.0</td>\n",
       "      <td>1.000</td>\n",
       "      <td>2.000</td>\n",
       "      <td>3.000</td>\n",
       "      <td>3.00</td>\n",
       "    </tr>\n",
       "    <tr>\n",
       "      <th>No_of_dependents</th>\n",
       "      <td>79853.0</td>\n",
       "      <td>2.503012</td>\n",
       "      <td>1.115901</td>\n",
       "      <td>1.0</td>\n",
       "      <td>2.000</td>\n",
       "      <td>3.000</td>\n",
       "      <td>3.000</td>\n",
       "      <td>4.00</td>\n",
       "    </tr>\n",
       "    <tr>\n",
       "      <th>Accomodation</th>\n",
       "      <td>79853.0</td>\n",
       "      <td>0.501296</td>\n",
       "      <td>0.500001</td>\n",
       "      <td>0.0</td>\n",
       "      <td>0.000</td>\n",
       "      <td>1.000</td>\n",
       "      <td>1.000</td>\n",
       "      <td>1.00</td>\n",
       "    </tr>\n",
       "    <tr>\n",
       "      <th>Risk_score</th>\n",
       "      <td>79853.0</td>\n",
       "      <td>99.067243</td>\n",
       "      <td>0.725892</td>\n",
       "      <td>91.9</td>\n",
       "      <td>98.830</td>\n",
       "      <td>99.180</td>\n",
       "      <td>99.520</td>\n",
       "      <td>99.89</td>\n",
       "    </tr>\n",
       "    <tr>\n",
       "      <th>No_of_premiums_paid</th>\n",
       "      <td>79853.0</td>\n",
       "      <td>10.863887</td>\n",
       "      <td>5.170687</td>\n",
       "      <td>2.0</td>\n",
       "      <td>7.000</td>\n",
       "      <td>10.000</td>\n",
       "      <td>14.000</td>\n",
       "      <td>60.00</td>\n",
       "    </tr>\n",
       "    <tr>\n",
       "      <th>Premium_payment</th>\n",
       "      <td>79853.0</td>\n",
       "      <td>10924.507533</td>\n",
       "      <td>9401.676542</td>\n",
       "      <td>1200.0</td>\n",
       "      <td>5400.000</td>\n",
       "      <td>7500.000</td>\n",
       "      <td>13800.000</td>\n",
       "      <td>60000.00</td>\n",
       "    </tr>\n",
       "    <tr>\n",
       "      <th>Default</th>\n",
       "      <td>79853.0</td>\n",
       "      <td>0.937410</td>\n",
       "      <td>0.242226</td>\n",
       "      <td>0.0</td>\n",
       "      <td>1.000</td>\n",
       "      <td>1.000</td>\n",
       "      <td>1.000</td>\n",
       "      <td>1.00</td>\n",
       "    </tr>\n",
       "  </tbody>\n",
       "</table>\n",
       "</div>"
      ],
      "text/plain": [
       "                                    count           mean            std  \\\n",
       "Perc_premium_paid_in_cash         79853.0       0.314288       0.334915   \n",
       "Age_in_days                       79853.0   18846.696906    5208.719136   \n",
       "Income                            79853.0  208847.171177  496582.597257   \n",
       "Late_premium_payment_3-6_months   79853.0       0.248369       0.691102   \n",
       "Late_premium_payment_6-12_months  79853.0       0.078093       0.436251   \n",
       "Late_premium_payment_>12_months   79853.0       0.059935       0.311840   \n",
       "Marital_Status                    79853.0       0.498679       0.500001   \n",
       "Vehicles_Owned                    79853.0       1.998009       0.817248   \n",
       "No_of_dependents                  79853.0       2.503012       1.115901   \n",
       "Accomodation                      79853.0       0.501296       0.500001   \n",
       "Risk_score                        79853.0      99.067243       0.725892   \n",
       "No_of_premiums_paid               79853.0      10.863887       5.170687   \n",
       "Premium_payment                   79853.0   10924.507533    9401.676542   \n",
       "Default                           79853.0       0.937410       0.242226   \n",
       "\n",
       "                                      min         25%         50%         75%  \\\n",
       "Perc_premium_paid_in_cash             0.0       0.034       0.167       0.538   \n",
       "Age_in_days                        7670.0   14974.000   18625.000   22636.000   \n",
       "Income                            24030.0  108010.000  166560.000  252090.000   \n",
       "Late_premium_payment_3-6_months       0.0       0.000       0.000       0.000   \n",
       "Late_premium_payment_6-12_months      0.0       0.000       0.000       0.000   \n",
       "Late_premium_payment_>12_months       0.0       0.000       0.000       0.000   \n",
       "Marital_Status                        0.0       0.000       0.000       1.000   \n",
       "Vehicles_Owned                        1.0       1.000       2.000       3.000   \n",
       "No_of_dependents                      1.0       2.000       3.000       3.000   \n",
       "Accomodation                          0.0       0.000       1.000       1.000   \n",
       "Risk_score                           91.9      98.830      99.180      99.520   \n",
       "No_of_premiums_paid                   2.0       7.000      10.000      14.000   \n",
       "Premium_payment                    1200.0    5400.000    7500.000   13800.000   \n",
       "Default                               0.0       1.000       1.000       1.000   \n",
       "\n",
       "                                          max  \n",
       "Perc_premium_paid_in_cash                1.00  \n",
       "Age_in_days                          37602.00  \n",
       "Income                            90262600.00  \n",
       "Late_premium_payment_3-6_months         13.00  \n",
       "Late_premium_payment_6-12_months        17.00  \n",
       "Late_premium_payment_>12_months         11.00  \n",
       "Marital_Status                           1.00  \n",
       "Vehicles_Owned                           3.00  \n",
       "No_of_dependents                         4.00  \n",
       "Accomodation                             1.00  \n",
       "Risk_score                              99.89  \n",
       "No_of_premiums_paid                     60.00  \n",
       "Premium_payment                      60000.00  \n",
       "Default                                  1.00  "
      ]
     },
     "execution_count": 17,
     "metadata": {},
     "output_type": "execute_result"
    }
   ],
   "source": [
    "# Five point summary of all numerical type variables in the dataset\n",
    "data.describe().T"
   ]
  },
  {
   "cell_type": "markdown",
   "metadata": {},
   "source": [
    "- `Perc_premium_paid_in_cash` is highly right skewed as the *mean* is almost twice the *median*. Also the *standard deviation* is greater than the *mean* implying a wide spread.   \n",
    "\n",
    "- `Age_in_days` is fairly symmetrical with *mean* and *median* being very close but there is some right skew as the difference between Q3 & Q4 is larger than other quartiles.\n",
    "- `Income` highly right skewed as the *mean* is greater than the *median*. Also the *standard deviation* is more than twice the *mean* implying a wide spread.\n",
    "- `Late_premium_payment_3-6_months`, `Late_premium_payment_6-12_months` & `Late_premium_payment_>12_months` are categorical ordinal variables.\n",
    "- `Marital_Status` is a binary variable with approximately 50% of the rows having a value of 1 (50% of the customers are married).\n",
    "- `Vehicles_Owned` & `No_of_dependents` are categorical ordinal variables.\n",
    "- `Accomodation` is a binary variable with approximately 50% of the rows having a value of 1 (50% of the customers owned their homes).\n",
    "- `Risk_score` is fairly symmetrical with *mean* and *median* being very close.\n",
    "- `No_of_premiums_paid` is fairly symmetrical with *mean* and *median* being very close but there is some right skew as the difference between Q3 & Q4 is larger than other quartiles.\n",
    "- `Premium_payment` is highly right skewed as the *mean* is greater than the *median*. Also the *standard deviation* is close to the *mean* implying a wide spread.\n",
    "- `Default` is a binary variable with approximately 94% of the rows having a value of 1 (94% of the customers are non-defaulters). This target variable is heavily imbalanced as only 6% of the rows are defaulters."
   ]
  },
  {
   "cell_type": "markdown",
   "metadata": {},
   "source": [
    "**Categorical type Summary**"
   ]
  },
  {
   "cell_type": "code",
   "execution_count": 18,
   "metadata": {
    "scrolled": false
   },
   "outputs": [
    {
     "data": {
      "text/html": [
       "<div>\n",
       "<style scoped>\n",
       "    .dataframe tbody tr th:only-of-type {\n",
       "        vertical-align: middle;\n",
       "    }\n",
       "\n",
       "    .dataframe tbody tr th {\n",
       "        vertical-align: top;\n",
       "    }\n",
       "\n",
       "    .dataframe thead th {\n",
       "        text-align: right;\n",
       "    }\n",
       "</style>\n",
       "<table border=\"1\" class=\"dataframe\">\n",
       "  <thead>\n",
       "    <tr style=\"text-align: right;\">\n",
       "      <th></th>\n",
       "      <th>count</th>\n",
       "      <th>unique</th>\n",
       "      <th>top</th>\n",
       "      <th>freq</th>\n",
       "    </tr>\n",
       "  </thead>\n",
       "  <tbody>\n",
       "    <tr>\n",
       "      <th>Sourcing_channel</th>\n",
       "      <td>79853</td>\n",
       "      <td>5</td>\n",
       "      <td>A</td>\n",
       "      <td>43134</td>\n",
       "    </tr>\n",
       "    <tr>\n",
       "      <th>Customer_demographic</th>\n",
       "      <td>79853</td>\n",
       "      <td>2</td>\n",
       "      <td>Urban</td>\n",
       "      <td>48183</td>\n",
       "    </tr>\n",
       "  </tbody>\n",
       "</table>\n",
       "</div>"
      ],
      "text/plain": [
       "                      count unique    top   freq\n",
       "Sourcing_channel      79853      5      A  43134\n",
       "Customer_demographic  79853      2  Urban  48183"
      ]
     },
     "execution_count": 18,
     "metadata": {},
     "output_type": "execute_result"
    }
   ],
   "source": [
    "data.describe(include=['category']).T"
   ]
  },
  {
   "cell_type": "markdown",
   "metadata": {},
   "source": [
    "- `Sourcing_channel` there are 5 different states in which \"A\" is the most frequent.\n",
    "- `Customer_demographic` there are 2 different states in which \"Urban\" is the most frequent. \n",
    "\n",
    "<font color='red'>**This dataset will be skewed to policy holders sourced from _Channel A_ and _Urban_ residences**"
   ]
  },
  {
   "cell_type": "markdown",
   "metadata": {},
   "source": [
    "---"
   ]
  },
  {
   "cell_type": "markdown",
   "metadata": {},
   "source": [
    "**Number of unique states for all variables**"
   ]
  },
  {
   "cell_type": "code",
   "execution_count": 19,
   "metadata": {},
   "outputs": [
    {
     "data": {
      "text/html": [
       "<div>\n",
       "<style scoped>\n",
       "    .dataframe tbody tr th:only-of-type {\n",
       "        vertical-align: middle;\n",
       "    }\n",
       "\n",
       "    .dataframe tbody tr th {\n",
       "        vertical-align: top;\n",
       "    }\n",
       "\n",
       "    .dataframe thead th {\n",
       "        text-align: right;\n",
       "    }\n",
       "</style>\n",
       "<table border=\"1\" class=\"dataframe\">\n",
       "  <thead>\n",
       "    <tr style=\"text-align: right;\">\n",
       "      <th></th>\n",
       "      <th>0</th>\n",
       "    </tr>\n",
       "  </thead>\n",
       "  <tbody>\n",
       "    <tr>\n",
       "      <th>Perc_premium_paid_in_cash</th>\n",
       "      <td>1001</td>\n",
       "    </tr>\n",
       "    <tr>\n",
       "      <th>Age_in_days</th>\n",
       "      <td>833</td>\n",
       "    </tr>\n",
       "    <tr>\n",
       "      <th>Income</th>\n",
       "      <td>24165</td>\n",
       "    </tr>\n",
       "    <tr>\n",
       "      <th>Late_premium_payment_3-6_months</th>\n",
       "      <td>14</td>\n",
       "    </tr>\n",
       "    <tr>\n",
       "      <th>Late_premium_payment_6-12_months</th>\n",
       "      <td>17</td>\n",
       "    </tr>\n",
       "    <tr>\n",
       "      <th>Late_premium_payment_&gt;12_months</th>\n",
       "      <td>10</td>\n",
       "    </tr>\n",
       "    <tr>\n",
       "      <th>Marital_Status</th>\n",
       "      <td>2</td>\n",
       "    </tr>\n",
       "    <tr>\n",
       "      <th>Vehicles_Owned</th>\n",
       "      <td>3</td>\n",
       "    </tr>\n",
       "    <tr>\n",
       "      <th>No_of_dependents</th>\n",
       "      <td>4</td>\n",
       "    </tr>\n",
       "    <tr>\n",
       "      <th>Accomodation</th>\n",
       "      <td>2</td>\n",
       "    </tr>\n",
       "    <tr>\n",
       "      <th>Risk_score</th>\n",
       "      <td>673</td>\n",
       "    </tr>\n",
       "    <tr>\n",
       "      <th>No_of_premiums_paid</th>\n",
       "      <td>57</td>\n",
       "    </tr>\n",
       "    <tr>\n",
       "      <th>Sourcing_channel</th>\n",
       "      <td>5</td>\n",
       "    </tr>\n",
       "    <tr>\n",
       "      <th>Customer_demographic</th>\n",
       "      <td>2</td>\n",
       "    </tr>\n",
       "    <tr>\n",
       "      <th>Premium_payment</th>\n",
       "      <td>30</td>\n",
       "    </tr>\n",
       "    <tr>\n",
       "      <th>Default</th>\n",
       "      <td>2</td>\n",
       "    </tr>\n",
       "  </tbody>\n",
       "</table>\n",
       "</div>"
      ],
      "text/plain": [
       "                                      0\n",
       "Perc_premium_paid_in_cash          1001\n",
       "Age_in_days                         833\n",
       "Income                            24165\n",
       "Late_premium_payment_3-6_months      14\n",
       "Late_premium_payment_6-12_months     17\n",
       "Late_premium_payment_>12_months      10\n",
       "Marital_Status                        2\n",
       "Vehicles_Owned                        3\n",
       "No_of_dependents                      4\n",
       "Accomodation                          2\n",
       "Risk_score                          673\n",
       "No_of_premiums_paid                  57\n",
       "Sourcing_channel                      5\n",
       "Customer_demographic                  2\n",
       "Premium_payment                      30\n",
       "Default                               2"
      ]
     },
     "execution_count": 19,
     "metadata": {},
     "output_type": "execute_result"
    }
   ],
   "source": [
    "# Check the unique values\n",
    "data.nunique().to_frame()"
   ]
  },
  {
   "cell_type": "markdown",
   "metadata": {},
   "source": [
    "**Categorical Variable Identification**\n",
    "\n",
    "Although the following variables are numerical in nature, they represent **categorical** variables:\n",
    "* `Late_premium_payment_3-6_months`\n",
    "* `Late_premium_payment_6-12_months`\n",
    "* `Late_premium_payment_>12_months`\n",
    "* `Vehicles_Owned`\n",
    "* `No_of_dependents` "
   ]
  },
  {
   "cell_type": "markdown",
   "metadata": {},
   "source": [
    "---"
   ]
  },
  {
   "cell_type": "markdown",
   "metadata": {},
   "source": [
    "**Create a list of numerical variables**"
   ]
  },
  {
   "cell_type": "code",
   "execution_count": 20,
   "metadata": {},
   "outputs": [],
   "source": [
    "numerical_vars = [\n",
    "    'Perc_premium_paid_in_cash', 'Age_in_days', 'Income', 'Risk_score',\n",
    "    'No_of_premiums_paid', 'Premium_payment'\n",
    "]"
   ]
  },
  {
   "cell_type": "markdown",
   "metadata": {},
   "source": [
    "**Create a list of categorical variables**"
   ]
  },
  {
   "cell_type": "code",
   "execution_count": 21,
   "metadata": {},
   "outputs": [],
   "source": [
    "categorical_vars = [\n",
    "    'Late_premium_payment_3-6_months', 'Late_premium_payment_6-12_months',\n",
    "    'Late_premium_payment_>12_months', 'Marital_Status', 'Vehicles_Owned',\n",
    "    'No_of_dependents', 'Accomodation', 'Sourcing_channel',\n",
    "    'Customer_demographic', 'Default'\n",
    "]"
   ]
  },
  {
   "cell_type": "markdown",
   "metadata": {},
   "source": [
    "---"
   ]
  },
  {
   "cell_type": "markdown",
   "metadata": {},
   "source": [
    "## Numerical data"
   ]
  },
  {
   "cell_type": "code",
   "execution_count": 22,
   "metadata": {
    "scrolled": true
   },
   "outputs": [
    {
     "data": {
      "text/html": [
       "<div>\n",
       "<style scoped>\n",
       "    .dataframe tbody tr th:only-of-type {\n",
       "        vertical-align: middle;\n",
       "    }\n",
       "\n",
       "    .dataframe tbody tr th {\n",
       "        vertical-align: top;\n",
       "    }\n",
       "\n",
       "    .dataframe thead th {\n",
       "        text-align: right;\n",
       "    }\n",
       "</style>\n",
       "<table border=\"1\" class=\"dataframe\">\n",
       "  <thead>\n",
       "    <tr style=\"text-align: right;\">\n",
       "      <th></th>\n",
       "      <th>count</th>\n",
       "      <th>mean</th>\n",
       "      <th>std</th>\n",
       "      <th>min</th>\n",
       "      <th>25%</th>\n",
       "      <th>50%</th>\n",
       "      <th>75%</th>\n",
       "      <th>max</th>\n",
       "    </tr>\n",
       "  </thead>\n",
       "  <tbody>\n",
       "    <tr>\n",
       "      <th>Perc_premium_paid_in_cash</th>\n",
       "      <td>79853.0</td>\n",
       "      <td>0.314288</td>\n",
       "      <td>0.334915</td>\n",
       "      <td>0.0</td>\n",
       "      <td>0.034</td>\n",
       "      <td>0.167</td>\n",
       "      <td>0.538</td>\n",
       "      <td>1.00</td>\n",
       "    </tr>\n",
       "    <tr>\n",
       "      <th>Age_in_days</th>\n",
       "      <td>79853.0</td>\n",
       "      <td>18846.696906</td>\n",
       "      <td>5208.719136</td>\n",
       "      <td>7670.0</td>\n",
       "      <td>14974.000</td>\n",
       "      <td>18625.000</td>\n",
       "      <td>22636.000</td>\n",
       "      <td>37602.00</td>\n",
       "    </tr>\n",
       "    <tr>\n",
       "      <th>Income</th>\n",
       "      <td>79853.0</td>\n",
       "      <td>208847.171177</td>\n",
       "      <td>496582.597257</td>\n",
       "      <td>24030.0</td>\n",
       "      <td>108010.000</td>\n",
       "      <td>166560.000</td>\n",
       "      <td>252090.000</td>\n",
       "      <td>90262600.00</td>\n",
       "    </tr>\n",
       "    <tr>\n",
       "      <th>Risk_score</th>\n",
       "      <td>79853.0</td>\n",
       "      <td>99.067243</td>\n",
       "      <td>0.725892</td>\n",
       "      <td>91.9</td>\n",
       "      <td>98.830</td>\n",
       "      <td>99.180</td>\n",
       "      <td>99.520</td>\n",
       "      <td>99.89</td>\n",
       "    </tr>\n",
       "    <tr>\n",
       "      <th>No_of_premiums_paid</th>\n",
       "      <td>79853.0</td>\n",
       "      <td>10.863887</td>\n",
       "      <td>5.170687</td>\n",
       "      <td>2.0</td>\n",
       "      <td>7.000</td>\n",
       "      <td>10.000</td>\n",
       "      <td>14.000</td>\n",
       "      <td>60.00</td>\n",
       "    </tr>\n",
       "    <tr>\n",
       "      <th>Premium_payment</th>\n",
       "      <td>79853.0</td>\n",
       "      <td>10924.507533</td>\n",
       "      <td>9401.676542</td>\n",
       "      <td>1200.0</td>\n",
       "      <td>5400.000</td>\n",
       "      <td>7500.000</td>\n",
       "      <td>13800.000</td>\n",
       "      <td>60000.00</td>\n",
       "    </tr>\n",
       "  </tbody>\n",
       "</table>\n",
       "</div>"
      ],
      "text/plain": [
       "                             count           mean            std      min  \\\n",
       "Perc_premium_paid_in_cash  79853.0       0.314288       0.334915      0.0   \n",
       "Age_in_days                79853.0   18846.696906    5208.719136   7670.0   \n",
       "Income                     79853.0  208847.171177  496582.597257  24030.0   \n",
       "Risk_score                 79853.0      99.067243       0.725892     91.9   \n",
       "No_of_premiums_paid        79853.0      10.863887       5.170687      2.0   \n",
       "Premium_payment            79853.0   10924.507533    9401.676542   1200.0   \n",
       "\n",
       "                                  25%         50%         75%          max  \n",
       "Perc_premium_paid_in_cash       0.034       0.167       0.538         1.00  \n",
       "Age_in_days                 14974.000   18625.000   22636.000     37602.00  \n",
       "Income                     108010.000  166560.000  252090.000  90262600.00  \n",
       "Risk_score                     98.830      99.180      99.520        99.89  \n",
       "No_of_premiums_paid             7.000      10.000      14.000        60.00  \n",
       "Premium_payment              5400.000    7500.000   13800.000     60000.00  "
      ]
     },
     "execution_count": 22,
     "metadata": {},
     "output_type": "execute_result"
    }
   ],
   "source": [
    "data[numerical_vars].describe().T"
   ]
  },
  {
   "cell_type": "markdown",
   "metadata": {},
   "source": [
    "### Skew Summary"
   ]
  },
  {
   "cell_type": "code",
   "execution_count": 23,
   "metadata": {
    "scrolled": true
   },
   "outputs": [
    {
     "name": "stdout",
     "output_type": "stream",
     "text": [
      "The 'Perc_premium_paid_in_cash' distribution is moderately right skewed.\n",
      "\n",
      "The 'Age_in_days' distribution is fairly symmetrical.\n",
      "\n",
      "The 'Income' distribution is highly right skewed.\n",
      "\n",
      "The 'Risk_score' distribution is highly left skewed.\n",
      "\n",
      "The 'No_of_premiums_paid' distribution is highly right skewed.\n",
      "\n",
      "The 'Premium_payment' distribution is highly right skewed.\n",
      "\n"
     ]
    }
   ],
   "source": [
    "# Display the skew summary for the numerical variables\n",
    "for var in data[numerical_vars].columns:\n",
    "    var_skew = data[var].skew()\n",
    "    if var_skew > 1:\n",
    "        print(f\"The '{var}' distribution is highly right skewed.\\n\")\n",
    "    elif var_skew < -1:\n",
    "        print(f\"The '{var}' distribution is highly left skewed.\\n\")\n",
    "    elif (var_skew > 0.5) & (var_skew < 1):\n",
    "        print(f\"The '{var}' distribution is moderately right skewed.\\n\")\n",
    "    elif (var_skew < -0.5) & (var_skew > -1):\n",
    "        print(f\"The '{var}' distribution is moderately left skewed.\\n\")\n",
    "    else:\n",
    "        print(f\"The '{var}' distribution is fairly symmetrical.\\n\")"
   ]
  },
  {
   "cell_type": "markdown",
   "metadata": {},
   "source": [
    "**Outlier check function**"
   ]
  },
  {
   "cell_type": "code",
   "execution_count": 24,
   "metadata": {},
   "outputs": [],
   "source": [
    "# Outlier check\n",
    "def outlier_count(data):\n",
    "    \"\"\"\n",
    "    This function checks the lower and upper \n",
    "    outliers for all numerical variables.\n",
    "    \n",
    "    Outliers are found where data points exists either:\n",
    "    - Greater than `1.5*IQR` above the 75th percentile\n",
    "    - Less than `1.5*IQR` below the 25th percentile\n",
    "    \"\"\"\n",
    "    numeric = data.select_dtypes(include=np.number).columns.to_list()\n",
    "    for i in numeric:\n",
    "        # Get name of series\n",
    "        name = data[i].name\n",
    "        # Calculate the IQR for all values and omit NaNs\n",
    "        IQR = spy.stats.iqr(data[i], nan_policy=\"omit\")\n",
    "        # Calculate the boxplot upper fence\n",
    "        upper_fence = data[i].quantile(0.75) + 1.5 * IQR\n",
    "        # Calculate the boxplot lower fence\n",
    "        lower_fence = data[i].quantile(0.25) - 1.5 * IQR\n",
    "        # Calculate the count of outliers above upper fence\n",
    "        upper_outliers = data[i][data[i] > upper_fence].count()\n",
    "        # Calculate the count of outliers below lower fence\n",
    "        lower_outliers = data[i][data[i] < lower_fence].count()\n",
    "        # Check if there are no outliers\n",
    "        if (upper_outliers == 0) & (lower_outliers == 0):\n",
    "            continue\n",
    "        print(\n",
    "            f\"The '{name}' distribution has '{lower_outliers}' lower outliers and '{upper_outliers}' upper outliers.\\n\"\n",
    "        )"
   ]
  },
  {
   "cell_type": "markdown",
   "metadata": {},
   "source": [
    "### Outlier check"
   ]
  },
  {
   "cell_type": "code",
   "execution_count": 25,
   "metadata": {
    "scrolled": false
   },
   "outputs": [
    {
     "name": "stdout",
     "output_type": "stream",
     "text": [
      "The 'Age_in_days' distribution has '0' lower outliers and '44' upper outliers.\n",
      "\n",
      "The 'Income' distribution has '0' lower outliers and '3428' upper outliers.\n",
      "\n",
      "The 'Risk_score' distribution has '3784' lower outliers and '0' upper outliers.\n",
      "\n",
      "The 'No_of_premiums_paid' distribution has '0' lower outliers and '1426' upper outliers.\n",
      "\n",
      "The 'Premium_payment' distribution has '0' lower outliers and '4523' upper outliers.\n",
      "\n"
     ]
    }
   ],
   "source": [
    "#Applying the Outlier check function for the sub-dataframe of numerical variables\n",
    "outlier_count(data[numerical_vars])"
   ]
  },
  {
   "cell_type": "markdown",
   "metadata": {},
   "source": [
    "### Numerical Variable Summary\n",
    "\n",
    "| Variable| Skew | Outliers | \n",
    "| :-: | :-: | :-: |\n",
    "| **Perc_premium_paid_in_cash** | Moderately right skewed | No Outliers | \n",
    "| **Age_in_days** | Fairly symmetrical | 44 Upper Outliers | \n",
    "| **Income** | Highly right skewed | 3428 Upper Outliers |\n",
    "| **Risk_score** | Highly left skewed | 3784 Lower Outliers |\n",
    "| **No_of_premiums_paid** | Highly right skewed | 1426 Upper Outliers |\n",
    "| **Premium_payment** | Highly right skewed | 4523 Upper Outliers |"
   ]
  },
  {
   "cell_type": "markdown",
   "metadata": {},
   "source": [
    "---"
   ]
  },
  {
   "cell_type": "markdown",
   "metadata": {},
   "source": [
    "## Categorical data"
   ]
  },
  {
   "cell_type": "markdown",
   "metadata": {},
   "source": [
    "### Unique states"
   ]
  },
  {
   "cell_type": "markdown",
   "metadata": {},
   "source": [
    "**Detailed investigation of unique values**"
   ]
  },
  {
   "cell_type": "code",
   "execution_count": 26,
   "metadata": {
    "scrolled": false
   },
   "outputs": [
    {
     "name": "stdout",
     "output_type": "stream",
     "text": [
      "Unique values in Late_premium_payment_3-6_months are :\n",
      "Late_premium_payment_3-6_months\n",
      "0     66898\n",
      "1      8826\n",
      "2      2519\n",
      "3       954\n",
      "4       374\n",
      "5       168\n",
      "6        68\n",
      "7        23\n",
      "8        15\n",
      "9         4\n",
      "13        1\n",
      "12        1\n",
      "10        1\n",
      "11        1\n",
      "Name: count, dtype: int64\n",
      "--------------------------------------------------------------------------------------------------------------\n",
      "Unique values in Late_premium_payment_6-12_months are :\n",
      "Late_premium_payment_6-12_months\n",
      "0     75928\n",
      "1      2680\n",
      "2       693\n",
      "3       317\n",
      "4       130\n",
      "5        46\n",
      "6        26\n",
      "7        11\n",
      "8         5\n",
      "9         4\n",
      "10        4\n",
      "11        2\n",
      "14        2\n",
      "13        2\n",
      "15        1\n",
      "17        1\n",
      "12        1\n",
      "Name: count, dtype: int64\n",
      "--------------------------------------------------------------------------------------------------------------\n",
      "Unique values in Late_premium_payment_>12_months are :\n",
      "Late_premium_payment_>12_months\n",
      "0     76135\n",
      "1      2996\n",
      "2       498\n",
      "3       151\n",
      "4        48\n",
      "5        13\n",
      "6         6\n",
      "7         3\n",
      "8         2\n",
      "11        1\n",
      "Name: count, dtype: int64\n",
      "--------------------------------------------------------------------------------------------------------------\n",
      "Unique values in Marital_Status are :\n",
      "Marital_Status\n",
      "0    40032\n",
      "1    39821\n",
      "Name: count, dtype: int64\n",
      "--------------------------------------------------------------------------------------------------------------\n",
      "Unique values in Vehicles_Owned are :\n",
      "Vehicles_Owned\n",
      "1    26746\n",
      "3    26587\n",
      "2    26520\n",
      "Name: count, dtype: int64\n",
      "--------------------------------------------------------------------------------------------------------------\n",
      "Unique values in No_of_dependents are :\n",
      "No_of_dependents\n",
      "3    20215\n",
      "2    19902\n",
      "4    19896\n",
      "1    19840\n",
      "Name: count, dtype: int64\n",
      "--------------------------------------------------------------------------------------------------------------\n",
      "Unique values in Accomodation are :\n",
      "Accomodation\n",
      "1    40030\n",
      "0    39823\n",
      "Name: count, dtype: int64\n",
      "--------------------------------------------------------------------------------------------------------------\n",
      "Unique values in Sourcing_channel are :\n",
      "Sourcing_channel\n",
      "A    43134\n",
      "B    16512\n",
      "C    12039\n",
      "D     7559\n",
      "E      609\n",
      "Name: count, dtype: int64\n",
      "--------------------------------------------------------------------------------------------------------------\n",
      "Unique values in Customer_demographic are :\n",
      "Customer_demographic\n",
      "Urban    48183\n",
      "Rural    31670\n",
      "Name: count, dtype: int64\n",
      "--------------------------------------------------------------------------------------------------------------\n",
      "Unique values in Default are :\n",
      "Default\n",
      "1    74855\n",
      "0     4998\n",
      "Name: count, dtype: int64\n",
      "--------------------------------------------------------------------------------------------------------------\n"
     ]
    }
   ],
   "source": [
    "# Display the unique values for all categorical variables\n",
    "for i in categorical_vars:\n",
    "    print('Unique values in',i, 'are :')\n",
    "    print(data[i].value_counts())\n",
    "    print('--'*55)"
   ]
  },
  {
   "cell_type": "markdown",
   "metadata": {},
   "source": [
    "- `Late_premium_payment_6-12_months` - there is discontinuity in the unique values as state 16 is missing in the range. \n",
    "-  `Late_premium_payment_>12_months` - there is discontinuity in the unique values as states 9 & 10 are missing in the range."
   ]
  },
  {
   "cell_type": "markdown",
   "metadata": {},
   "source": [
    "---"
   ]
  },
  {
   "cell_type": "markdown",
   "metadata": {},
   "source": [
    "### Categorical Variable Summary\n",
    "\n",
    "There are categorical variables in the numeric format.\n",
    "\n",
    "| Variable| Type | Range | \n",
    "| :-: | :-: | :-: |\n",
    "| **Late_premium_payment_3-6_months**| Ordinal | 14 states |\n",
    "| **Late_premium_payment_6-12_months**| Ordinal | 17 states |\n",
    "| **Late_premium_payment_>12_months**| Ordinal | 10 states |\n",
    "| **Marital_Status**| Nominal | 2 states |\n",
    "| **Vehicles_Owned**| Ordinal | 3 states |\n",
    "| **No_of_dependents**| Ordinal | 4 states |\n",
    "| **Accomodation**| Nominal | 2 states |\n",
    "| **Sourcing_channel**| Nominal | 5 states |\n",
    "| **Customer_demographic**| Nominal | 2 states |\n",
    "| **Default**| Nominal | 2 states |"
   ]
  },
  {
   "cell_type": "markdown",
   "metadata": {},
   "source": [
    "---"
   ]
  },
  {
   "cell_type": "markdown",
   "metadata": {},
   "source": [
    "## Target Variable"
   ]
  },
  {
   "cell_type": "markdown",
   "metadata": {},
   "source": [
    "Target variable is **`Default`**"
   ]
  },
  {
   "cell_type": "code",
   "execution_count": 27,
   "metadata": {},
   "outputs": [
    {
     "data": {
      "text/html": [
       "<div>\n",
       "<style scoped>\n",
       "    .dataframe tbody tr th:only-of-type {\n",
       "        vertical-align: middle;\n",
       "    }\n",
       "\n",
       "    .dataframe tbody tr th {\n",
       "        vertical-align: top;\n",
       "    }\n",
       "\n",
       "    .dataframe thead th {\n",
       "        text-align: right;\n",
       "    }\n",
       "</style>\n",
       "<table border=\"1\" class=\"dataframe\">\n",
       "  <thead>\n",
       "    <tr style=\"text-align: right;\">\n",
       "      <th></th>\n",
       "      <th>count</th>\n",
       "      <th>percentage</th>\n",
       "    </tr>\n",
       "    <tr>\n",
       "      <th>Default</th>\n",
       "      <th></th>\n",
       "      <th></th>\n",
       "    </tr>\n",
       "  </thead>\n",
       "  <tbody>\n",
       "    <tr>\n",
       "      <th>1</th>\n",
       "      <td>74855</td>\n",
       "      <td>93.740999</td>\n",
       "    </tr>\n",
       "    <tr>\n",
       "      <th>0</th>\n",
       "      <td>4998</td>\n",
       "      <td>6.259001</td>\n",
       "    </tr>\n",
       "  </tbody>\n",
       "</table>\n",
       "</div>"
      ],
      "text/plain": [
       "         count  percentage\n",
       "Default                   \n",
       "1        74855   93.740999\n",
       "0         4998    6.259001"
      ]
     },
     "execution_count": 27,
     "metadata": {},
     "output_type": "execute_result"
    }
   ],
   "source": [
    "# Checking the distribution of target variable\n",
    "\n",
    "# Count the different \"Default\" states\n",
    "count = data[\"Default\"].value_counts().T\n",
    "# Calculate the percentage different \"Default\" states\n",
    "percentage = data['Default'].value_counts(normalize=True).T * 100\n",
    "# Join count and percentage series\n",
    "target_dist = pd.concat([count, percentage], axis=1)\n",
    "# Set column names\n",
    "target_dist.columns = ['count', 'percentage']\n",
    "# Set Index name\n",
    "target_dist.index.name = \"Default\"\n",
    "# Display target distribution dataframe\n",
    "target_dist"
   ]
  },
  {
   "cell_type": "markdown",
   "metadata": {},
   "source": [
    "**Out of the 79854 policy holders, only 6.26% defaulted**\n",
    "\n",
    "<font color='red'> The Target variable is **Heavily Imbalanced**"
   ]
  },
  {
   "cell_type": "markdown",
   "metadata": {},
   "source": [
    "---"
   ]
  },
  {
   "cell_type": "markdown",
   "metadata": {},
   "source": [
    "---"
   ]
  }
 ],
 "metadata": {
  "kernelspec": {
   "display_name": "Python 3 (ipykernel)",
   "language": "python",
   "name": "python3"
  },
  "language_info": {
   "codemirror_mode": {
    "name": "ipython",
    "version": 3
   },
   "file_extension": ".py",
   "mimetype": "text/x-python",
   "name": "python",
   "nbconvert_exporter": "python",
   "pygments_lexer": "ipython3",
   "version": "3.11.5"
  },
  "toc": {
   "base_numbering": 1,
   "nav_menu": {},
   "number_sections": true,
   "sideBar": true,
   "skip_h1_title": false,
   "title_cell": "Table of Contents",
   "title_sidebar": "Contents",
   "toc_cell": false,
   "toc_position": {
    "height": "601.667px",
    "left": "26px",
    "top": "110.633px",
    "width": "246.733px"
   },
   "toc_section_display": true,
   "toc_window_display": true
  },
  "varInspector": {
   "cols": {
    "lenName": 16,
    "lenType": 16,
    "lenVar": 40
   },
   "kernels_config": {
    "python": {
     "delete_cmd_postfix": "",
     "delete_cmd_prefix": "del ",
     "library": "var_list.py",
     "varRefreshCmd": "print(var_dic_list())"
    },
    "r": {
     "delete_cmd_postfix": ") ",
     "delete_cmd_prefix": "rm(",
     "library": "var_list.r",
     "varRefreshCmd": "cat(var_dic_list()) "
    }
   },
   "types_to_exclude": [
    "module",
    "function",
    "builtin_function_or_method",
    "instance",
    "_Feature"
   ],
   "window_display": false
  }
 },
 "nbformat": 4,
 "nbformat_minor": 4
}
